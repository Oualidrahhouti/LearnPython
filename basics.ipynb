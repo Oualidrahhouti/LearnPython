{
 "cells": [
  {
   "cell_type": "code",
   "execution_count": 4,
   "id": "113a39e3-24fa-4632-8c2c-0f26dfebf44c",
   "metadata": {
    "tags": []
   },
   "outputs": [
    {
     "name": "stdin",
     "output_type": "stream",
     "text": [
      " 5\n"
     ]
    },
    {
     "name": "stdout",
     "output_type": "stream",
     "text": [
      "0\n",
      "1\n",
      "4\n",
      "9\n",
      "16\n"
     ]
    }
   ],
   "source": [
    "if __name__ == '__main__':\n",
    "    n = int(input())\n",
    "    for i in range(0,n):\n",
    "        print(i*i)"
   ]
  },
  {
   "cell_type": "code",
   "execution_count": 6,
   "id": "327235f5-2d50-4cbb-ba36-9a0a073a7786",
   "metadata": {
    "tags": []
   },
   "outputs": [
    {
     "name": "stdin",
     "output_type": "stream",
     "text": [
      " 2022\n"
     ]
    },
    {
     "name": "stdout",
     "output_type": "stream",
     "text": [
      "False\n"
     ]
    }
   ],
   "source": [
    "def is_leap(year):\n",
    "    leap = False\n",
    "    if (year / 4) % 2 == 0:\n",
    "        leap = True\n",
    "    elif (year / 100) % 2 == 0 :\n",
    "        if ( year / 400) % 2 == 0:\n",
    "            leap = True\n",
    "    # Write your logic here\n",
    "    \n",
    "    return leap\n",
    "\n",
    "year = int(input())\n",
    "print(is_leap(year))"
   ]
  },
  {
   "cell_type": "code",
   "execution_count": 7,
   "id": "efb9755d-9b4c-4e70-9c85-b6750438362d",
   "metadata": {
    "tags": []
   },
   "outputs": [
    {
     "name": "stdin",
     "output_type": "stream",
     "text": [
      " 5\n"
     ]
    },
    {
     "name": "stdout",
     "output_type": "stream",
     "text": [
      "12345"
     ]
    }
   ],
   "source": [
    "if __name__ == '__main__':\n",
    "    n = int(input())\n",
    "    for x in range(1,n+1):\n",
    "        print(x,end=\"\")"
   ]
  },
  {
   "cell_type": "code",
   "execution_count": 9,
   "id": "605676bf-f3ab-46ad-ad7c-fe5ec49e441d",
   "metadata": {
    "tags": []
   },
   "outputs": [
    {
     "name": "stdout",
     "output_type": "stream",
     "text": [
      "The mean along axis 1:\n",
      "[1.5 3.5]\n",
      "\n",
      "The var along axis 0:\n",
      "[1. 1.]\n",
      "\n",
      "The std along both axes:\n",
      "1.118033988749895\n"
     ]
    }
   ],
   "source": [
    "import numpy as np  # Import numpy and alias it as np\n",
    "\n",
    "# Given 2-D array of size X\n",
    "my_array = np.array([[1, 2], [3, 4]])\n",
    "\n",
    "# Find the mean along axis 1\n",
    "mean_axis1 = np.mean(my_array, axis=1)\n",
    "print(\"The mean along axis 1:\")\n",
    "print(mean_axis1)\n",
    "\n",
    "# Find the var along axis 0\n",
    "var_axis0 = np.var(my_array, axis=0)\n",
    "print(\"\\nThe var along axis 0:\")\n",
    "print(var_axis0)\n",
    "\n",
    "# Find the std along both axes\n",
    "std_both_axes = np.std(my_array)\n",
    "print(\"\\nThe std along both axes:\")\n",
    "print(std_both_axes)\n",
    "\n"
   ]
  },
  {
   "cell_type": "code",
   "execution_count": null,
   "id": "18b4cc95-f94f-48be-af17-25463d3954ed",
   "metadata": {},
   "outputs": [],
   "source": []
  },
  {
   "cell_type": "code",
   "execution_count": null,
   "id": "1cc5e004-7062-4b81-ace6-374441c0352c",
   "metadata": {},
   "outputs": [],
   "source": []
  }
 ],
 "metadata": {
  "kernelspec": {
   "display_name": "Python 3 (ipykernel)",
   "language": "python",
   "name": "python3"
  },
  "language_info": {
   "codemirror_mode": {
    "name": "ipython",
    "version": 3
   },
   "file_extension": ".py",
   "mimetype": "text/x-python",
   "name": "python",
   "nbconvert_exporter": "python",
   "pygments_lexer": "ipython3",
   "version": "3.11.5"
  }
 },
 "nbformat": 4,
 "nbformat_minor": 5
}
